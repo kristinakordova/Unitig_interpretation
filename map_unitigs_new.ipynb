{
 "cells": [
  {
   "cell_type": "code",
   "execution_count": null,
   "id": "8ce3529e",
   "metadata": {},
   "outputs": [],
   "source": [
    "from unitig_mapping_functions import *"
   ]
  },
  {
   "cell_type": "code",
   "execution_count": null,
   "id": "f57fe311",
   "metadata": {},
   "outputs": [],
   "source": [
    "unitig_samples_list, replicating_features_frame = unitig_samples(1884508)"
   ]
  },
  {
   "cell_type": "code",
   "execution_count": null,
   "id": "85473ffc",
   "metadata": {},
   "outputs": [],
   "source": [
    "fasta_path_to_unitig = write_unitig_string_fasta(\"TTGATGCCCAAAAGAGGCAGCACAGCAAAAC\")"
   ]
  },
  {
   "cell_type": "code",
   "execution_count": null,
   "id": "627f94d1",
   "metadata": {},
   "outputs": [],
   "source": [
    "matching_annotations = check_presence(unitig_string = \"TTGATGCCCAAAAGAGGCAGCACAGCAAAAC\", unitig_samples = unitig_samples_list, unitig_string_fasta = fasta_path_to_unitig)"
   ]
  },
  {
   "cell_type": "code",
   "execution_count": null,
   "id": "9e6e1109",
   "metadata": {},
   "outputs": [],
   "source": [
    "#Extract the panaroo rows which have the annotation \n",
    "#Also extract the context of the protein which has the gene across annotations\n",
    "contexts_across_samples, unitig_locations_across_samples = extract_gene(matching_annotations, unitig_string = \"TTGATGCCCAAAAGAGGCAGCACAGCAAAAC\")"
   ]
  },
  {
   "cell_type": "code",
   "execution_count": null,
   "id": "59c3b0cf",
   "metadata": {},
   "outputs": [],
   "source": [
    "alternative_proteins_locations = extract_protein_locations_all_matches_by_gene_panaroo_name(unitig_locations_across_samples)"
   ]
  },
  {
   "cell_type": "code",
   "execution_count": null,
   "id": "02fd6af1",
   "metadata": {},
   "outputs": [],
   "source": [
    "genes = extract_gene_seqeunces_unitig(alternative_proteins_locations)\n"
   ]
  },
  {
   "cell_type": "code",
   "execution_count": null,
   "id": "87609497",
   "metadata": {},
   "outputs": [],
   "source": [
    "extracted_genes_proteins = unitigs_seqneces_not_in_genes(unitig_string = \"TTGATGCCCAAAAGAGGCAGCACAGCAAAAC\", matching_annotations = matching_annotations, genes = genes)"
   ]
  },
  {
   "cell_type": "code",
   "execution_count": null,
   "id": "f6a00d7a",
   "metadata": {},
   "outputs": [],
   "source": [
    "unitig_correlations = find_correlated_regions(extracted_genes_proteins, unitig_string = \"TTGATGCCCAAAAGAGGCAGCACAGCAAAAC\")"
   ]
  },
  {
   "cell_type": "code",
   "execution_count": null,
   "id": "201e4a9e",
   "metadata": {},
   "outputs": [],
   "source": [
    "import pandas as pd\n",
    "unitig_correlations[\"correlation\"] = unitig_correlations[\"correlation\"].abs()\n",
    "highly_correlated = unitig_correlations[unitig_correlations[\"correlation\"] > 0.9]\n",
    "highly_correlated\n"
   ]
  },
  {
   "cell_type": "code",
   "execution_count": null,
   "id": "3373752a",
   "metadata": {},
   "outputs": [],
   "source": [
    "all_hits = run_ncbi_annotations(genes, number_of_hits_to_run = 2)\n"
   ]
  }
 ],
 "metadata": {
  "language_info": {
   "name": "python"
  }
 },
 "nbformat": 4,
 "nbformat_minor": 5
}
