{
 "cells": [
  {
   "cell_type": "code",
   "execution_count": 1,
   "id": "b13597ca",
   "metadata": {},
   "outputs": [],
   "source": [
    "from unitig_mapping_functions import *"
   ]
  },
  {
   "cell_type": "code",
   "execution_count": null,
   "id": "f636e0d3",
   "metadata": {},
   "outputs": [],
   "source": [
    "unitig_samples_list, replicating_features_frame = unitig_samples(1884508)"
   ]
  },
  {
   "cell_type": "code",
   "execution_count": null,
   "id": "e71a101f",
   "metadata": {},
   "outputs": [],
   "source": [
    "fasta_path_to_unitig = write_unitig_string_fasta(\"TTGATGCCCAAAAGAGGCAGCACAGCAAAAC\")"
   ]
  },
  {
   "cell_type": "code",
   "execution_count": null,
   "id": "866728f6",
   "metadata": {},
   "outputs": [],
   "source": [
    "matching_annotations = check_presence(unitig_string = \"TTGATGCCCAAAAGAGGCAGCACAGCAAAAC\", unitig_samples = unitig_samples_list, unitig_string_fasta = fasta_path_to_unitig)"
   ]
  },
  {
   "cell_type": "code",
   "execution_count": null,
   "id": "371942bc",
   "metadata": {},
   "outputs": [],
   "source": [
    "#Extract the panaroo rows which have the annotation \n",
    "#Also extract the context of the protein which has the gene across annotations\n",
    "contexts_across_samples, unitig_locations_across_samples = extract_gene(matching_annotations, unitig_string = \"TTGATGCCCAAAAGAGGCAGCACAGCAAAAC\")"
   ]
  },
  {
   "cell_type": "code",
   "execution_count": null,
   "id": "df518896",
   "metadata": {},
   "outputs": [],
   "source": [
    "alternative_proteins_locations = extract_protein_locations_all_matches_by_gene_panaroo_name(unitig_locations_across_samples)"
   ]
  },
  {
   "cell_type": "code",
   "execution_count": null,
   "id": "99800572",
   "metadata": {},
   "outputs": [],
   "source": [
    "genes = extract_gene_seqeunces_unitig(alternative_proteins_locations)"
   ]
  },
  {
   "cell_type": "code",
   "execution_count": null,
   "id": "05f9f2c7",
   "metadata": {},
   "outputs": [],
   "source": [
    "extracted_genes_proteins = unitigs_seqneces_not_in_genes(unitig_string = \"TTGATGCCCAAAAGAGGCAGCACAGCAAAAC\", matching_annotations = matching_annotations, genes = genes)"
   ]
  },
  {
   "cell_type": "code",
   "execution_count": null,
   "id": "ef6f8d35",
   "metadata": {},
   "outputs": [],
   "source": [
    "unitig_correlations = find_correlated_regions(extracted_genes_proteins, unitig_string = \"TTGATGCCCAAAAGAGGCAGCACAGCAAAAC\")"
   ]
  },
  {
   "cell_type": "code",
   "execution_count": null,
   "id": "f3df9275",
   "metadata": {},
   "outputs": [],
   "source": [
    "import pandas as pd\n",
    "unitig_correlations[\"correlation\"] = unitig_correlations[\"correlation\"].abs()\n",
    "highly_correlated = unitig_correlations[unitig_correlations[\"correlation\"] > 0.9]\n",
    "highly_correlated"
   ]
  },
  {
   "cell_type": "code",
   "execution_count": null,
   "id": "5884cb76",
   "metadata": {},
   "outputs": [],
   "source": [
    "all_hits = run_ncbi_annotations(genes, number_of_hits_to_run = 2)"
   ]
  },
  {
   "cell_type": "code",
   "execution_count": null,
   "id": "b8be0d7d",
   "metadata": {},
   "outputs": [],
   "source": [
    "all_hits"
   ]
  },
  {
   "cell_type": "markdown",
   "id": "c593ffc0",
   "metadata": {},
   "source": [
    "Test commit"
   ]
  }
 ],
 "metadata": {
  "kernelspec": {
   "display_name": "pytorch",
   "language": "python",
   "name": "python3"
  },
  "language_info": {
   "codemirror_mode": {
    "name": "ipython",
    "version": 3
   },
   "file_extension": ".py",
   "mimetype": "text/x-python",
   "name": "python",
   "nbconvert_exporter": "python",
   "pygments_lexer": "ipython3",
   "version": "3.10.16"
  }
 },
 "nbformat": 4,
 "nbformat_minor": 5
}
