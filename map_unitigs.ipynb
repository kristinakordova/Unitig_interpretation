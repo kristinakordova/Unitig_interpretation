{
 "cells": [
  {
   "cell_type": "code",
   "execution_count": 1,
   "id": "b13597ca",
   "metadata": {},
   "outputs": [],
   "source": [
    "from unitig_mapping_functions import *"
   ]
  },
  {
   "cell_type": "code",
   "execution_count": 2,
   "id": "f636e0d3",
   "metadata": {},
   "outputs": [
    {
     "name": "stdout",
     "output_type": "stream",
     "text": [
      "Located unitig with frequency 0.013793103448275862\n"
     ]
    }
   ],
   "source": [
    "unitig_samples_list, replicating_features_frame = unitig_samples(1183612)"
   ]
  },
  {
   "cell_type": "code",
   "execution_count": 7,
   "id": "e71a101f",
   "metadata": {},
   "outputs": [],
   "source": [
    "fasta_path_to_unitig = write_unitig_string_fasta(\"CGGCAGCGTCAGATGTGTATAAGAGACAGTA\")"
   ]
  },
  {
   "cell_type": "code",
   "execution_count": 8,
   "id": "866728f6",
   "metadata": {},
   "outputs": [
    {
     "name": "stdout",
     "output_type": "stream",
     "text": [
      "Sample /Users/kvk22/Library/CloudStorage/OneDrive-UniversityofCambridge/Desktop/genomes/573.12861.fna missing\n"
     ]
    }
   ],
   "source": [
    "matching_annotations = check_presence(unitig_string = \"CGGCAGCGTCAGATGTGTATAAGAGACAGTA\", unitig_samples = unitig_samples_list, unitig_string_fasta = fasta_path_to_unitig)\n"
   ]
  },
  {
   "cell_type": "code",
   "execution_count": 9,
   "id": "371942bc",
   "metadata": {},
   "outputs": [
    {
     "name": "stdout",
     "output_type": "stream",
     "text": [
      "File not found: /Users/kvk22/Library/CloudStorage/OneDrive-UniversityofCambridge/Desktop/Arthemis/annotations/573.12868.fna.gff\n",
      "File not found: /Users/kvk22/Library/CloudStorage/OneDrive-UniversityofCambridge/Desktop/Arthemis/annotations/573.12873.fna.gff\n",
      "File not found: /Users/kvk22/Library/CloudStorage/OneDrive-UniversityofCambridge/Desktop/Arthemis/annotations/573.12881.fna.gff\n",
      "File not found: /Users/kvk22/Library/CloudStorage/OneDrive-UniversityofCambridge/Desktop/Arthemis/annotations/573.12883.fna.gff\n",
      "File not found: /Users/kvk22/Library/CloudStorage/OneDrive-UniversityofCambridge/Desktop/Arthemis/annotations/573.12892.fna.gff\n",
      "File not found: /Users/kvk22/Library/CloudStorage/OneDrive-UniversityofCambridge/Desktop/Arthemis/annotations/573.12904.fna.gff\n",
      "File not found: /Users/kvk22/Library/CloudStorage/OneDrive-UniversityofCambridge/Desktop/Arthemis/annotations/573.12907.fna.gff\n",
      "File not found: /Users/kvk22/Library/CloudStorage/OneDrive-UniversityofCambridge/Desktop/Arthemis/annotations/573.12915.fna.gff\n",
      "File not found: /Users/kvk22/Library/CloudStorage/OneDrive-UniversityofCambridge/Desktop/Arthemis/annotations/573.12917.fna.gff\n",
      "File not found: /Users/kvk22/Library/CloudStorage/OneDrive-UniversityofCambridge/Desktop/Arthemis/annotations/573.12918.fna.gff\n",
      "File not found: /Users/kvk22/Library/CloudStorage/OneDrive-UniversityofCambridge/Desktop/Arthemis/annotations/573.12921.fna.gff\n",
      "File not found: /Users/kvk22/Library/CloudStorage/OneDrive-UniversityofCambridge/Desktop/Arthemis/annotations/573.12923.fna.gff\n",
      "File not found: /Users/kvk22/Library/CloudStorage/OneDrive-UniversityofCambridge/Desktop/Arthemis/annotations/573.12924.fna.gff\n",
      "File not found: /Users/kvk22/Library/CloudStorage/OneDrive-UniversityofCambridge/Desktop/Arthemis/annotations/573.12927.fna.gff\n",
      "File not found: /Users/kvk22/Library/CloudStorage/OneDrive-UniversityofCambridge/Desktop/Arthemis/annotations/573.12935.fna.gff\n",
      "File not found: /Users/kvk22/Library/CloudStorage/OneDrive-UniversityofCambridge/Desktop/Arthemis/annotations/573.12936.fna.gff\n",
      "File not found: /Users/kvk22/Library/CloudStorage/OneDrive-UniversityofCambridge/Desktop/Arthemis/annotations/573.12941.fna.gff\n",
      "File not found: /Users/kvk22/Library/CloudStorage/OneDrive-UniversityofCambridge/Desktop/Arthemis/annotations/573.12965.fna.gff\n",
      "File not found: /Users/kvk22/Library/CloudStorage/OneDrive-UniversityofCambridge/Desktop/Arthemis/annotations/573.12995.fna.gff\n",
      "File not found: /Users/kvk22/Library/CloudStorage/OneDrive-UniversityofCambridge/Desktop/Arthemis/annotations/573.12997.fna.gff\n",
      "File not found: /Users/kvk22/Library/CloudStorage/OneDrive-UniversityofCambridge/Desktop/Arthemis/annotations/573.13004.fna.gff\n",
      "File not found: /Users/kvk22/Library/CloudStorage/OneDrive-UniversityofCambridge/Desktop/Arthemis/annotations/573.13005.fna.gff\n",
      "File not found: /Users/kvk22/Library/CloudStorage/OneDrive-UniversityofCambridge/Desktop/Arthemis/annotations/573.13006.fna.gff\n",
      "File not found: /Users/kvk22/Library/CloudStorage/OneDrive-UniversityofCambridge/Desktop/Arthemis/annotations/573.13012.fna.gff\n",
      "File not found: /Users/kvk22/Library/CloudStorage/OneDrive-UniversityofCambridge/Desktop/Arthemis/annotations/573.13013.fna.gff\n",
      "File not found: /Users/kvk22/Library/CloudStorage/OneDrive-UniversityofCambridge/Desktop/Arthemis/annotations/573.13019.fna.gff\n",
      "File not found: /Users/kvk22/Library/CloudStorage/OneDrive-UniversityofCambridge/Desktop/Arthemis/annotations/573.13027.fna.gff\n",
      "File not found: /Users/kvk22/Library/CloudStorage/OneDrive-UniversityofCambridge/Desktop/Arthemis/annotations/573.13029.fna.gff\n"
     ]
    }
   ],
   "source": [
    "contexts_across_samples, locations_across_samples = extract_gene(matching_annotations)"
   ]
  },
  {
   "cell_type": "code",
   "execution_count": 10,
   "id": "24e648e4",
   "metadata": {},
   "outputs": [],
   "source": [
    "extracted_genes_proteins = extract_gene_seqeunces(locations_across_samples, unitig_string = \"CGGCAGCGTCAGATGTGTATAAGAGACAGTA\")"
   ]
  },
  {
   "cell_type": "code",
   "execution_count": null,
   "id": "afb09b54",
   "metadata": {},
   "outputs": [],
   "source": [
    "clistal_gene_alignment_table, clistal_pritein_alignment_table = clustal_gene_alignment(extracted_genes_proteins)"
   ]
  }
 ],
 "metadata": {
  "kernelspec": {
   "display_name": "pytorch",
   "language": "python",
   "name": "python3"
  },
  "language_info": {
   "codemirror_mode": {
    "name": "ipython",
    "version": 3
   },
   "file_extension": ".py",
   "mimetype": "text/x-python",
   "name": "python",
   "nbconvert_exporter": "python",
   "pygments_lexer": "ipython3",
   "version": "3.10.16"
  }
 },
 "nbformat": 4,
 "nbformat_minor": 5
}
